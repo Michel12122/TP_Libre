{
  "cells": [
    {
      "cell_type": "markdown",
      "metadata": {
        "id": "Z4vd_1jHc-Dz"
      },
      "source": [
        "# **TRABAJO PRÁCTICO FINAL**     \n",
        "\n",
        "| Integrantes | Legajo|\n",
        "|Boyé, Michel B-6609/5|"
      ]
    },
    {
      "cell_type": "markdown",
      "metadata": {
        "id": "LKXL4eDrekXZ"
      },
      "source": [
        "# Archivos"
      ]
    },
    {
      "cell_type": "markdown",
      "metadata": {
        "id": "v_ihUbk6TsV1"
      },
      "source": [
        "## Descarga"
      ]
    },
    {
      "cell_type": "code",
      "execution_count": 246,
      "metadata": {
        "id": "PZCFSAgBeNqP"
      },
      "outputs": [],
      "source": [
        "#!gdown  https://datos.yvera.gob.ar/dataset/09679fe3-7379-481d-a36a-6b1e3d7374b1/resource/9d4db872-0a51-4042-9daa-e55bc7a3044c/download/viajes_origen_destino_mes.csv"
      ]
    },
    {
      "cell_type": "code",
      "execution_count": 247,
      "metadata": {},
      "outputs": [],
      "source": [
        "#!gdown 1WWvf6yn5oS1xarapKnwr3s8l2wKWtd7d"
      ]
    },
    {
      "cell_type": "markdown",
      "metadata": {
        "id": "WY2M6mApPHzf"
      },
      "source": [
        "## Lectura"
      ]
    },
    {
      "cell_type": "code",
      "execution_count": 248,
      "metadata": {
        "id": "6gUl8YfOOt0a"
      },
      "outputs": [],
      "source": [
        "import csv"
      ]
    },
    {
      "cell_type": "markdown",
      "metadata": {
        "id": "T36g6ukAq0SM"
      },
      "source": [
        "# Enunciado 1\n",
        "- Leer el archivo 'coordenadas_provincias.csv' que se encuentra en esta dirección: \\\n",
        "  `\n",
        "  https://drive.google.com/file/d/1WWvf6yn5oS1xarapKnwr3s8l2wKWtd7d/view?usp=drive_link\n",
        "  `\n",
        "- Crear la función listToDict que se encarga de convertir los datos leídos a una lista de diccionarios.\n",
        "- Llamar a la función anterior con los datos del archivo leído y verificar que devuelva lo pedido.\n",
        "- Crear el constructor de la clase 'Provincia'\n",
        "- Crear un objeto de la clase 'Provincia'\n"
      ]
    },
    {
      "cell_type": "code",
      "execution_count": 249,
      "metadata": {},
      "outputs": [],
      "source": [
        "def openFile():\n",
        "  \"\"\"\n",
        "  Lee datos del archivo de entrada y retorna\n",
        "  una lista con la información que se va a usar en el trabajo.\n",
        "  \"\"\"\n",
        "  Lista_carga_Datos_CP = []\n",
        "  with open('coordenadas_provincias.csv', 'r') as datos: \n",
        "      datos_csv = csv.reader(datos) #Se crea un objeto\n",
        "      encabezado = next(datos_csv) #Salto la parte del encabezado\n",
        "      for fila in datos_csv:\n",
        "        Lista_carga_Datos_CP.append(fila)\n",
        "  # Insertar función creada en clase\n",
        "  return Lista_carga_Datos_CP"
      ]
    },
    {
      "cell_type": "code",
      "execution_count": 250,
      "metadata": {
        "id": "MEOI8iy-qmtO"
      },
      "outputs": [],
      "source": [
        "def listToDict(lista: list) -> list:\n",
        "    \"\"\"\n",
        "    Toma el resultado de la lectura de datos como argumento y devuelve una lista\n",
        "    de diccionarios.\n",
        "    Tiene un argumento 'encabezado' por defecto.\n",
        "    La clave es el valor en el índice 0, y los valores asociados son una tupla\n",
        "    con el resto de los elementos de la lista.\n",
        "    \"\"\"\n",
        "    list_dic = []\n",
        "    for fila in lista:\n",
        "        dicProvincia = {fila[0]: tuple(fila[1:3])}\n",
        "        list_dic.append(dicProvincia)\n",
        "    return list_dic\n"
      ]
    },
    {
      "cell_type": "markdown",
      "metadata": {
        "id": "9ojRI0HbgA5V"
      },
      "source": [
        "Ejemplo de salida de la función `listToDict()`:\n",
        "\n",
        "```python\n",
        "provincias = [{'Buenos Aires':('-34.6037', '-58.3816')},\n",
        "              {'CABA':('-34.6158', '-58.4333')}\n",
        "              ...]\n",
        "```\n",
        "\n"
      ]
    },
    {
      "cell_type": "markdown",
      "metadata": {
        "id": "6LB7mJ4DdSxN"
      },
      "source": [
        "# Clases"
      ]
    },
    {
      "cell_type": "markdown",
      "metadata": {
        "id": "zSvgpU85fNdO"
      },
      "source": [
        "## Clase Provincia"
      ]
    },
    {
      "cell_type": "code",
      "execution_count": 251,
      "metadata": {
        "id": "nDkaHXrqfTxu"
      },
      "outputs": [],
      "source": [
        "class Provincia:\n",
        "  \"\"\"\n",
        "  Esta clase representa una provincia.\n",
        "  Atributos:\n",
        "    nombre: str\n",
        "    coordenada: tuple\n",
        "  \"\"\"\n",
        "  def __init__(self,nombre : str, coordenadas : tuple):\n",
        "      self.nombre = nombre\n",
        "      self.coordenadas = coordenadas\n",
        "\n",
        "  def __str__(self):\n",
        "      return f\"Nombre de la provincia: {self.nombre}, coordenadas: {self.coordenadas}\""
      ]
    },
    {
      "cell_type": "markdown",
      "metadata": {
        "id": "BGPZb2Bkfonf"
      },
      "source": [
        "# Programa principal"
      ]
    },
    {
      "cell_type": "code",
      "execution_count": 252,
      "metadata": {
        "id": "aM_HBf-Sg3j-"
      },
      "outputs": [
        {
          "name": "stdout",
          "output_type": "stream",
          "text": [
            "[['Buenos Aires', '-34.6037', '-58.3816'], ['Ciudad AutÃ³noma de Buenos Aires', '-34.6158', '-58.4333'], ['Catamarca', '-28.4696', '-65.7795'], ['Chaco', '-26.6021', '-59.3087'], ['Chubut', '-43.6848', '-68.2714'], ['CÃ³rdoba', '-31.4167', '-64.1833'], ['Corrientes', '-27.4692', '-58.8309'], ['Entre RÃ\\xados', '-31.7642', '-60.5247'], ['Formosa', '-26.1844', '-58.1759'], ['Jujuy', '-24.1858', '-65.2995'], ['La Pampa', '-36.6167', '-64.2833'], ['La Rioja', '-29.4131', '-66.8558'], ['Mendoza', '-32.8908', '-68.8272'], ['Misiones', '-27.3621', '-55.9007'], ['NeuquÃ©n', '-38.9516', '-68.0591'], ['RÃ\\xado Negro', '-40.8135', '-62.9967'], ['Salta', '-24.7829', '-65.4232'], ['San Juan', '-31.5375', '-68.5364'], ['San Luis', '-33.3335', '-66.3499'], ['Santa Cruz', '-51.6236', '-69.2169'], ['Santa Fe', '-31.6333', '-60.7'], ['Santiago del Estero', '-27.784', '-64.2665'], ['Tierra del Fuego, AntÃ¡rtida e Islas del AtlÃ¡ntico Sur', '-54.8019', '-68.302'], ['TucumÃ¡n', '-26.808', '-65.2176']]\n",
            "[{'Buenos Aires': ('-34.6037', '-58.3816')}, {'Ciudad AutÃ³noma de Buenos Aires': ('-34.6158', '-58.4333')}, {'Catamarca': ('-28.4696', '-65.7795')}, {'Chaco': ('-26.6021', '-59.3087')}, {'Chubut': ('-43.6848', '-68.2714')}, {'CÃ³rdoba': ('-31.4167', '-64.1833')}, {'Corrientes': ('-27.4692', '-58.8309')}, {'Entre RÃ\\xados': ('-31.7642', '-60.5247')}, {'Formosa': ('-26.1844', '-58.1759')}, {'Jujuy': ('-24.1858', '-65.2995')}, {'La Pampa': ('-36.6167', '-64.2833')}, {'La Rioja': ('-29.4131', '-66.8558')}, {'Mendoza': ('-32.8908', '-68.8272')}, {'Misiones': ('-27.3621', '-55.9007')}, {'NeuquÃ©n': ('-38.9516', '-68.0591')}, {'RÃ\\xado Negro': ('-40.8135', '-62.9967')}, {'Salta': ('-24.7829', '-65.4232')}, {'San Juan': ('-31.5375', '-68.5364')}, {'San Luis': ('-33.3335', '-66.3499')}, {'Santa Cruz': ('-51.6236', '-69.2169')}, {'Santa Fe': ('-31.6333', '-60.7')}, {'Santiago del Estero': ('-27.784', '-64.2665')}, {'Tierra del Fuego, AntÃ¡rtida e Islas del AtlÃ¡ntico Sur': ('-54.8019', '-68.302')}, {'TucumÃ¡n': ('-26.808', '-65.2176')}]\n"
          ]
        }
      ],
      "source": [
        "Lista_Cp = openFile()\n",
        "print(Lista_Cp)\n",
        "List_Dic_Cp = listToDict(Lista_Cp)\n",
        "print(List_Dic_Cp)\n",
        "# Crear objeto Provincia\n"
      ]
    }
  ],
  "metadata": {
    "colab": {
      "provenance": []
    },
    "kernelspec": {
      "display_name": "Python 3",
      "name": "python3"
    },
    "language_info": {
      "codemirror_mode": {
        "name": "ipython",
        "version": 3
      },
      "file_extension": ".py",
      "mimetype": "text/x-python",
      "name": "python",
      "nbconvert_exporter": "python",
      "pygments_lexer": "ipython3",
      "version": "3.11.2"
    }
  },
  "nbformat": 4,
  "nbformat_minor": 0
}
