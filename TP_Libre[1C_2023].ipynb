{
  "cells": [
    {
      "cell_type": "markdown",
      "source": [
        "# **TRABAJO PRÁCTICO FINAL**     \n",
        "\n",
        "| Integrantes | Legajo|\n",
        "| ----- | --- |\n",
        "|Apellido, Nombre | X-9999/9 |\n",
        "|Apellido, Nombre | X-9999/9 |\n",
        "|Apellido, Nombre | X-9999/9 |"
      ],
      "metadata": {
        "id": "Z4vd_1jHc-Dz"
      }
    },
    {
      "cell_type": "markdown",
      "source": [
        "# Archivos"
      ],
      "metadata": {
        "id": "LKXL4eDrekXZ"
      }
    },
    {
      "cell_type": "markdown",
      "source": [
        "## Descarga"
      ],
      "metadata": {
        "id": "v_ihUbk6TsV1"
      }
    },
    {
      "cell_type": "code",
      "source": [
        "!gdown  # releer colab csv para la comisión 1 y 3"
      ],
      "metadata": {
        "id": "PZCFSAgBeNqP"
      },
      "execution_count": null,
      "outputs": []
    },
    {
      "cell_type": "markdown",
      "source": [
        "## Lectura"
      ],
      "metadata": {
        "id": "WY2M6mApPHzf"
      }
    },
    {
      "cell_type": "code",
      "source": [
        "import csv"
      ],
      "metadata": {
        "id": "6gUl8YfOOt0a"
      },
      "execution_count": null,
      "outputs": []
    },
    {
      "cell_type": "code",
      "source": [
        "def openFile():\n",
        "  \"\"\"\n",
        "  Lee datos del archivo de entrada y retorna\n",
        "  una lista con la información que se va a usar en el trabajo.\n",
        "  \"\"\"\n",
        "  # Insertar función creada en clase\n",
        "  pass"
      ],
      "metadata": {
        "id": "mAoEK9bKhlaB"
      },
      "execution_count": null,
      "outputs": []
    },
    {
      "cell_type": "markdown",
      "source": [
        "# Enunciado 1\n",
        "- Leer el archivo 'coordenadas_provincias.csv' que se encuentra en esta dirección: \\\n",
        "  `\n",
        "  https://drive.google.com/file/d/1WWvf6yn5oS1xarapKnwr3s8l2wKWtd7d/view?usp=drive_link\n",
        "  `\n",
        "- Crear la función listToDict que se encarga de convertir los datos leídos a una lista de diccionarios.\n",
        "- Llamar a la función anterior con los datos del archivo leído y verificar que devuelva lo pedido.\n",
        "- Crear el constructor de la clase 'Provincia'\n",
        "- Crear un objeto de la clase 'Provincia'\n"
      ],
      "metadata": {
        "id": "T36g6ukAq0SM"
      }
    },
    {
      "cell_type": "code",
      "source": [
        "def listToDict():\n",
        "  \"\"\"\n",
        "  Toma el resultado de la lectura de datos como argumento y devuelve una lista\n",
        "  de diccionarios.\n",
        "  Tiene un argumento 'encabezado' por defecto.\n",
        "  La clave es el valor en el índice 0, y los valores asociados son una tupla\n",
        "  con el resto de los elementos de la lista.\n",
        "  \"\"\"\n",
        "  pass"
      ],
      "metadata": {
        "id": "MEOI8iy-qmtO"
      },
      "execution_count": null,
      "outputs": []
    },
    {
      "cell_type": "markdown",
      "source": [
        "Ejemplo de salida de la función `listToDict()`:\n",
        "\n",
        "```python\n",
        "provincias = [{'Buenos Aires':('-34.6037', '-58.3816')},\n",
        "              {'CABA':('-34.6158', '-58.4333')}\n",
        "              ...]\n",
        "```\n",
        "\n"
      ],
      "metadata": {
        "id": "9ojRI0HbgA5V"
      }
    },
    {
      "cell_type": "markdown",
      "source": [
        "# Clases"
      ],
      "metadata": {
        "id": "6LB7mJ4DdSxN"
      }
    },
    {
      "cell_type": "markdown",
      "metadata": {
        "id": "zSvgpU85fNdO"
      },
      "source": [
        "## Clase Provincia"
      ]
    },
    {
      "cell_type": "code",
      "execution_count": null,
      "metadata": {
        "id": "nDkaHXrqfTxu"
      },
      "outputs": [],
      "source": [
        "class Provincia:\n",
        "  \"\"\"\n",
        "  Esta clase representa una provincia.\n",
        "  Atributos:\n",
        "    nombre: str\n",
        "    coordenada: tuple\n",
        "  \"\"\"\n",
        "  def __init__(self):\n",
        "    pass\n",
        "\n",
        "  def __str__(self):\n",
        "      pass"
      ]
    },
    {
      "cell_type": "markdown",
      "source": [
        "# Programa principal"
      ],
      "metadata": {
        "id": "BGPZb2Bkfonf"
      }
    },
    {
      "cell_type": "code",
      "source": [
        "openFile()\n",
        "listToDict()\n",
        "# Crear objeto Provincia\n"
      ],
      "metadata": {
        "id": "aM_HBf-Sg3j-"
      },
      "execution_count": null,
      "outputs": []
    }
  ],
  "metadata": {
    "colab": {
      "provenance": []
    },
    "kernelspec": {
      "display_name": "Python 3",
      "name": "python3"
    },
    "language_info": {
      "name": "python"
    }
  },
  "nbformat": 4,
  "nbformat_minor": 0
}